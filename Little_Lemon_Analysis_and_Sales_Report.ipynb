{
 "cells": [
  {
   "cell_type": "markdown",
   "metadata": {},
   "source": [
    "# Task 2\n"
   ]
  },
  {
   "cell_type": "code",
   "execution_count": null,
   "metadata": {},
   "outputs": [
    {
     "name": "stdout",
     "output_type": "stream",
     "text": [
      "Connection between MySQL and Python is established.\n",
      "\n",
      "Cursor is created to communicate with the MySQL using Python.\n",
      "\n",
      "Tables in the database are: \n",
      "[('Bookings',), ('Customers',), ('Employee',), ('MenuItems',), ('Menus',), ('OrderDelivery',), ('Orders',), ('ordersview',)]\n"
     ]
    }
   ],
   "source": [
    "# Import the MySQL Connector/Python\n",
    "import mysql.connector as connector\n",
    "\n",
    "# Establish connection between Python and MySQL database via connector API\n",
    "connection=connector.connect(\n",
    "                             user=\"newuser\", \n",
    "                             password=\"TSqltools33\", \n",
    "                             host=\"localhost\",\n",
    "                             database=\"little_lemon\", \n",
    "                            )\n",
    "print(\"Connection between MySQL and Python is established.\\n\")\n",
    "cursor = connection.cursor()\n",
    "print(\"Cursor is created to communicate with the MySQL using Python.\\n\")\n",
    "\n",
    "show_tables_query = \"SHOW tables\" \n",
    "cursor.execute(show_tables_query)\n",
    "results = cursor.fetchall()\n",
    "print(\"Tables in the database are: \")\n",
    "print(results)"
   ]
  },
  {
   "cell_type": "markdown",
   "metadata": {},
   "source": [
    "# Task 3"
   ]
  },
  {
   "cell_type": "code",
   "execution_count": 25,
   "metadata": {},
   "outputs": [
    {
     "name": "stdout",
     "output_type": "stream",
     "text": [
      "('FullName', 'ContactNumber', 'Email', 'TotalCost')\n",
      "('Vanessa McCarthy', '13456789', 'vaMcCar@gmail.com', Decimal('250.00'))\n",
      "('Marcos Romero', '13456789', 'marRo@gmail.com', Decimal('200.00'))\n",
      "('Anna Iversen', '13456789', 'anIve@gmail.com', Decimal('105.00'))\n"
     ]
    }
   ],
   "source": [
    "query = \"\"\"\n",
    "SELECT\n",
    "    c.FullName,\n",
    "    c.ContactNumber,\n",
    "    c.Email,\n",
    "    o.TotalCost\n",
    "FROM\n",
    "    Customers AS c\n",
    "INNER JOIN\n",
    "    Orders AS o ON c.CustomerID = o.CustomerID\n",
    "WHERE\n",
    "    o.TotalCost > 60;\n",
    "\"\"\"\n",
    "cursor.execute(query)\n",
    "\n",
    "print(cursor.column_names)\n",
    "for customer in cursor:\n",
    "    print(customer);"
   ]
  },
  {
   "cell_type": "code",
   "execution_count": null,
   "metadata": {},
   "outputs": [],
   "source": [
    "# Review Orders table to check result\n",
    "cursor.execute(\"select * from Orders\")\n",
    "print(cursor.column_names)\n",
    "for order in cursor:\n",
    "    print(order);"
   ]
  }
 ],
 "metadata": {
  "kernelspec": {
   "display_name": "Python 3",
   "language": "python",
   "name": "python3"
  },
  "language_info": {
   "codemirror_mode": {
    "name": "ipython",
    "version": 3
   },
   "file_extension": ".py",
   "mimetype": "text/x-python",
   "name": "python",
   "nbconvert_exporter": "python",
   "pygments_lexer": "ipython3",
   "version": "3.13.1"
  }
 },
 "nbformat": 4,
 "nbformat_minor": 2
}
